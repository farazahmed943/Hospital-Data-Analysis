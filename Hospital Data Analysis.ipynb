{
 "cells": [
  {
   "cell_type": "code",
   "execution_count": 205,
   "metadata": {},
   "outputs": [],
   "source": [
    "import matplotlib.pyplot as plt\n",
    "import pandas as pd\n",
    "import numpy as np"
   ]
  },
  {
   "cell_type": "code",
   "execution_count": 206,
   "metadata": {},
   "outputs": [],
   "source": [
    "# Read Data"
   ]
  },
  {
   "cell_type": "code",
   "execution_count": 207,
   "metadata": {},
   "outputs": [],
   "source": [
    "df = pd.read_csv('hospital_data.csv')"
   ]
  },
  {
   "cell_type": "code",
   "execution_count": 208,
   "metadata": {},
   "outputs": [
    {
     "data": {
      "text/html": [
       "<div>\n",
       "<style scoped>\n",
       "    .dataframe tbody tr th:only-of-type {\n",
       "        vertical-align: middle;\n",
       "    }\n",
       "\n",
       "    .dataframe tbody tr th {\n",
       "        vertical-align: top;\n",
       "    }\n",
       "\n",
       "    .dataframe thead th {\n",
       "        text-align: right;\n",
       "    }\n",
       "</style>\n",
       "<table border=\"1\" class=\"dataframe\">\n",
       "  <thead>\n",
       "    <tr style=\"text-align: right;\">\n",
       "      <th></th>\n",
       "      <th>Date</th>\n",
       "      <th>Medication Revenue</th>\n",
       "      <th>Lab Cost</th>\n",
       "      <th>Consultation Revenue</th>\n",
       "      <th>Doctor Type</th>\n",
       "      <th>Financial Class</th>\n",
       "      <th>Patient Type</th>\n",
       "      <th>Entry Time</th>\n",
       "      <th>Post-Consultation Time</th>\n",
       "      <th>Completion Time</th>\n",
       "      <th>Doctor</th>\n",
       "      <th>Patient ID</th>\n",
       "    </tr>\n",
       "  </thead>\n",
       "  <tbody>\n",
       "    <tr>\n",
       "      <th>0</th>\n",
       "      <td>11/4/2019 0:00</td>\n",
       "      <td>$1,183.22</td>\n",
       "      <td>$10.00</td>\n",
       "      <td>$20.17</td>\n",
       "      <td>ANCHOR</td>\n",
       "      <td>HMO</td>\n",
       "      <td>OUTPATIENT</td>\n",
       "      <td>8:35:45</td>\n",
       "      <td>9:17:54</td>\n",
       "      <td>9:29:46</td>\n",
       "      <td>DR05350C4</td>\n",
       "      <td>C10001</td>\n",
       "    </tr>\n",
       "    <tr>\n",
       "      <th>1</th>\n",
       "      <td>11/6/2019 0:00</td>\n",
       "      <td>$738.48</td>\n",
       "      <td>$-</td>\n",
       "      <td>$15.00</td>\n",
       "      <td>ANCHOR</td>\n",
       "      <td>INSURANCE</td>\n",
       "      <td>OUTPATIENT</td>\n",
       "      <td>19:19:16</td>\n",
       "      <td>21:02:36</td>\n",
       "      <td>21:24:07</td>\n",
       "      <td>DR09451Z4</td>\n",
       "      <td>C10002</td>\n",
       "    </tr>\n",
       "    <tr>\n",
       "      <th>2</th>\n",
       "      <td>11/2/2019 0:00</td>\n",
       "      <td>$660.00</td>\n",
       "      <td>$-</td>\n",
       "      <td>$21.17</td>\n",
       "      <td>ANCHOR</td>\n",
       "      <td>HMO</td>\n",
       "      <td>OUTPATIENT</td>\n",
       "      <td>10:46:52</td>\n",
       "      <td>11:56:25</td>\n",
       "      <td>12:06:28</td>\n",
       "      <td>DR17400I4</td>\n",
       "      <td>C10003</td>\n",
       "    </tr>\n",
       "    <tr>\n",
       "      <th>3</th>\n",
       "      <td>11/6/2019 0:00</td>\n",
       "      <td>$600.00</td>\n",
       "      <td>$-</td>\n",
       "      <td>$-</td>\n",
       "      <td>ANCHOR</td>\n",
       "      <td>MEDICARE</td>\n",
       "      <td>OUTPATIENT</td>\n",
       "      <td>9:38:34</td>\n",
       "      <td>10:55:50</td>\n",
       "      <td>10:58:02</td>\n",
       "      <td>DR09451Z4</td>\n",
       "      <td>C10004</td>\n",
       "    </tr>\n",
       "    <tr>\n",
       "      <th>4</th>\n",
       "      <td>11/1/2019 0:00</td>\n",
       "      <td>$591.60</td>\n",
       "      <td>$-</td>\n",
       "      <td>$12.00</td>\n",
       "      <td>ANCHOR</td>\n",
       "      <td>INSURANCE</td>\n",
       "      <td>OUTPATIENT</td>\n",
       "      <td>11:16:21</td>\n",
       "      <td>12:06:49</td>\n",
       "      <td>12:06:54</td>\n",
       "      <td>DR15154H4</td>\n",
       "      <td>C10005</td>\n",
       "    </tr>\n",
       "  </tbody>\n",
       "</table>\n",
       "</div>"
      ],
      "text/plain": [
       "             Date  Medication Revenue    Lab Cost   Consultation Revenue   \\\n",
       "0  11/4/2019 0:00           $1,183.22      $10.00                 $20.17    \n",
       "1  11/6/2019 0:00             $738.48        $-                   $15.00    \n",
       "2  11/2/2019 0:00             $660.00        $-                   $21.17    \n",
       "3  11/6/2019 0:00             $600.00        $-                     $-      \n",
       "4  11/1/2019 0:00             $591.60        $-                   $12.00    \n",
       "\n",
       "  Doctor Type Financial Class Patient Type Entry Time Post-Consultation Time  \\\n",
       "0      ANCHOR             HMO   OUTPATIENT    8:35:45                9:17:54   \n",
       "1      ANCHOR       INSURANCE   OUTPATIENT   19:19:16               21:02:36   \n",
       "2      ANCHOR             HMO   OUTPATIENT   10:46:52               11:56:25   \n",
       "3      ANCHOR        MEDICARE   OUTPATIENT    9:38:34               10:55:50   \n",
       "4      ANCHOR       INSURANCE   OUTPATIENT   11:16:21               12:06:49   \n",
       "\n",
       "  Completion Time     Doctor Patient ID  \n",
       "0         9:29:46  DR05350C4     C10001  \n",
       "1        21:24:07  DR09451Z4     C10002  \n",
       "2        12:06:28  DR17400I4     C10003  \n",
       "3        10:58:02  DR09451Z4     C10004  \n",
       "4        12:06:54  DR15154H4     C10005  "
      ]
     },
     "execution_count": 208,
     "metadata": {},
     "output_type": "execute_result"
    }
   ],
   "source": [
    "df.head()"
   ]
  },
  {
   "cell_type": "code",
   "execution_count": 209,
   "metadata": {},
   "outputs": [
    {
     "data": {
      "text/plain": [
       "Date                      object\n",
       " Medication Revenue       object\n",
       "  Lab Cost                object\n",
       " Consultation Revenue     object\n",
       "Doctor Type               object\n",
       "Financial Class           object\n",
       "Patient Type              object\n",
       "Entry Time                object\n",
       "Post-Consultation Time    object\n",
       "Completion Time           object\n",
       "Doctor                    object\n",
       "Patient ID                object\n",
       "dtype: object"
      ]
     },
     "execution_count": 209,
     "metadata": {},
     "output_type": "execute_result"
    }
   ],
   "source": [
    " df.dtypes"
   ]
  },
  {
   "cell_type": "code",
   "execution_count": 210,
   "metadata": {},
   "outputs": [],
   "source": [
    "# Datetime formating"
   ]
  },
  {
   "cell_type": "code",
   "execution_count": 211,
   "metadata": {},
   "outputs": [],
   "source": [
    "df['Date'] = pd.to_datetime(df['Date']) "
   ]
  },
  {
   "cell_type": "code",
   "execution_count": 212,
   "metadata": {},
   "outputs": [
    {
     "data": {
      "text/plain": [
       "Date                      datetime64[ns]\n",
       " Medication Revenue               object\n",
       "  Lab Cost                        object\n",
       " Consultation Revenue             object\n",
       "Doctor Type                       object\n",
       "Financial Class                   object\n",
       "Patient Type                      object\n",
       "Entry Time                        object\n",
       "Post-Consultation Time            object\n",
       "Completion Time                   object\n",
       "Doctor                            object\n",
       "Patient ID                        object\n",
       "dtype: object"
      ]
     },
     "execution_count": 212,
     "metadata": {},
     "output_type": "execute_result"
    }
   ],
   "source": [
    "df.dtypes"
   ]
  },
  {
   "cell_type": "code",
   "execution_count": 213,
   "metadata": {},
   "outputs": [],
   "source": [
    "df.columns = df.columns.str.lstrip(' ')"
   ]
  },
  {
   "cell_type": "code",
   "execution_count": 214,
   "metadata": {},
   "outputs": [],
   "source": [
    "df['Post-Consultation Time'] = pd.to_datetime(df['Post-Consultation Time']) \n",
    "df['Completion Time'] = pd.to_datetime(df['Completion Time'])\n",
    "df['Entry Time'] = pd.to_datetime(df['Entry Time'])\n",
    "\n"
   ]
  },
  {
   "cell_type": "code",
   "execution_count": 215,
   "metadata": {},
   "outputs": [
    {
     "data": {
      "text/plain": [
       "Date                      datetime64[ns]\n",
       "Medication Revenue                object\n",
       "Lab Cost                          object\n",
       "Consultation Revenue              object\n",
       "Doctor Type                       object\n",
       "Financial Class                   object\n",
       "Patient Type                      object\n",
       "Entry Time                datetime64[ns]\n",
       "Post-Consultation Time    datetime64[ns]\n",
       "Completion Time           datetime64[ns]\n",
       "Doctor                            object\n",
       "Patient ID                        object\n",
       "dtype: object"
      ]
     },
     "execution_count": 215,
     "metadata": {},
     "output_type": "execute_result"
    }
   ],
   "source": [
    "df.dtypes"
   ]
  },
  {
   "cell_type": "code",
   "execution_count": 216,
   "metadata": {},
   "outputs": [],
   "source": [
    "def clean_text(x):\n",
    "    x = x.replace('$','')\n",
    "    x = x.replace(',','')\n",
    "    x = x.replace('-','')\n",
    "    x = x.replace(' ','')\n",
    "    x = pd.to_numeric(x)\n",
    "    return x"
   ]
  },
  {
   "cell_type": "code",
   "execution_count": 217,
   "metadata": {},
   "outputs": [],
   "source": [
    "df.columns = df.columns.str.rstrip(' ')"
   ]
  },
  {
   "cell_type": "code",
   "execution_count": 218,
   "metadata": {},
   "outputs": [],
   "source": [
    "df['Medication Revenue'] = df['Medication Revenue'].apply(clean_text)"
   ]
  },
  {
   "cell_type": "code",
   "execution_count": 219,
   "metadata": {},
   "outputs": [],
   "source": [
    "df['Lab Cost'] = df['Lab Cost'].apply(clean_text)"
   ]
  },
  {
   "cell_type": "code",
   "execution_count": 220,
   "metadata": {},
   "outputs": [],
   "source": [
    "df['Consultation Revenue'] = df['Consultation Revenue'].apply(clean_text)"
   ]
  },
  {
   "cell_type": "code",
   "execution_count": 221,
   "metadata": {},
   "outputs": [
    {
     "data": {
      "text/plain": [
       "Date                      datetime64[ns]\n",
       "Medication Revenue               float64\n",
       "Lab Cost                         float64\n",
       "Consultation Revenue             float64\n",
       "Doctor Type                       object\n",
       "Financial Class                   object\n",
       "Patient Type                      object\n",
       "Entry Time                datetime64[ns]\n",
       "Post-Consultation Time    datetime64[ns]\n",
       "Completion Time           datetime64[ns]\n",
       "Doctor                            object\n",
       "Patient ID                        object\n",
       "dtype: object"
      ]
     },
     "execution_count": 221,
     "metadata": {},
     "output_type": "execute_result"
    }
   ],
   "source": [
    "df.dtypes"
   ]
  },
  {
   "cell_type": "code",
   "execution_count": 228,
   "metadata": {},
   "outputs": [
    {
     "data": {
      "text/plain": [
       "Date                          0\n",
       "Medication Revenue        11937\n",
       "Lab Cost                  28566\n",
       "Consultation Revenue       5576\n",
       "Doctor Type                   0\n",
       "Financial Class               0\n",
       "Patient Type                  0\n",
       "Entry Time                    0\n",
       "Post-Consultation Time        0\n",
       "Completion Time               0\n",
       "Doctor                        0\n",
       "Patient ID                    0\n",
       "dtype: int64"
      ]
     },
     "execution_count": 228,
     "metadata": {},
     "output_type": "execute_result"
    }
   ],
   "source": [
    "df.isna().sum()"
   ]
  },
  {
   "cell_type": "code",
   "execution_count": 229,
   "metadata": {},
   "outputs": [],
   "source": [
    "df = df.fillna(0)  "
   ]
  },
  {
   "cell_type": "code",
   "execution_count": 230,
   "metadata": {},
   "outputs": [],
   "source": [
    "# Create Total Revenue Column"
   ]
  },
  {
   "cell_type": "code",
   "execution_count": 231,
   "metadata": {},
   "outputs": [],
   "source": [
    "df['Total Revenue'] = df['Medication Revenue'] + df['Consultation Revenue'] + df['Lab Cost']"
   ]
  },
  {
   "cell_type": "code",
   "execution_count": null,
   "metadata": {},
   "outputs": [],
   "source": []
  },
  {
   "cell_type": "markdown",
   "metadata": {},
   "source": [
    "# What time has the most visitors"
   ]
  },
  {
   "cell_type": "code",
   "execution_count": 232,
   "metadata": {},
   "outputs": [],
   "source": [
    "df['Entry Hour'] = df['Entry Time'].dt.hour"
   ]
  },
  {
   "cell_type": "code",
   "execution_count": 233,
   "metadata": {},
   "outputs": [],
   "source": [
    "pivot1 = df.groupby(df['Entry Hour'])['Patient ID'].count()"
   ]
  },
  {
   "cell_type": "code",
   "execution_count": 234,
   "metadata": {},
   "outputs": [
    {
     "data": {
      "text/plain": [
       "<AxesSubplot:xlabel='Entry Hour'>"
      ]
     },
     "execution_count": 234,
     "metadata": {},
     "output_type": "execute_result"
    },
    {
     "data": {
      "image/png": "[encoded data removed]",
      "text/plain": [
       "<Figure size 432x288 with 1 Axes>"
      ]
     },
     "metadata": {},
     "output_type": "display_data"
    }
   ],
   "source": [
    "plt.style.use('ggplot')\n",
    "df.groupby(df['Entry Hour'])['Patient ID'].count().plot()"
   ]
  },
  {
   "cell_type": "markdown",
   "metadata": {},
   "source": [
    "# Total Revenue and Total Visitors Correlation"
   ]
  },
  {
   "cell_type": "code",
   "execution_count": 235,
   "metadata": {},
   "outputs": [],
   "source": [
    "pivot2 = df.groupby(df['Entry Hour'])['Total Revenue'].sum()"
   ]
  },
  {
   "cell_type": "code",
   "execution_count": 236,
   "metadata": {},
   "outputs": [
    {
     "data": {
      "text/plain": [
       "<AxesSubplot:xlabel='Entry Hour'>"
      ]
     },
     "execution_count": 236,
     "metadata": {},
     "output_type": "execute_result"
    },
    {
     "data": {
      "image/png": "[encoded data removed]",
      "text/plain": [
       "<Figure size 432x288 with 1 Axes>"
      ]
     },
     "metadata": {},
     "output_type": "display_data"
    }
   ],
   "source": [
    "plt.style.use('ggplot')\n",
    "df.groupby(df['Entry Hour'])['Total Revenue'].sum().plot()"
   ]
  },
  {
   "cell_type": "code",
   "execution_count": 237,
   "metadata": {},
   "outputs": [],
   "source": [
    "pivot3 = df.groupby(df['Entry Hour']).sum()\n",
    "pivot4 = df.groupby(df['Entry Hour']).count()"
   ]
  },
  {
   "cell_type": "code",
   "execution_count": 238,
   "metadata": {},
   "outputs": [],
   "source": [
    "merge = pivot3.merge(pivot4,on = 'Entry Hour')"
   ]
  },
  {
   "cell_type": "code",
   "execution_count": 239,
   "metadata": {},
   "outputs": [
    {
     "data": {
      "text/html": [
       "<div>\n",
       "<style scoped>\n",
       "    .dataframe tbody tr th:only-of-type {\n",
       "        vertical-align: middle;\n",
       "    }\n",
       "\n",
       "    .dataframe tbody tr th {\n",
       "        vertical-align: top;\n",
       "    }\n",
       "\n",
       "    .dataframe thead th {\n",
       "        text-align: right;\n",
       "    }\n",
       "</style>\n",
       "<table border=\"1\" class=\"dataframe\">\n",
       "  <thead>\n",
       "    <tr style=\"text-align: right;\">\n",
       "      <th></th>\n",
       "      <th>Medication Revenue_x</th>\n",
       "      <th>Lab Cost_x</th>\n",
       "      <th>Consultation Revenue_x</th>\n",
       "      <th>Total Revenue_x</th>\n",
       "      <th>Date</th>\n",
       "      <th>Medication Revenue_y</th>\n",
       "      <th>Lab Cost_y</th>\n",
       "      <th>Consultation Revenue_y</th>\n",
       "      <th>Doctor Type</th>\n",
       "      <th>Financial Class</th>\n",
       "      <th>Patient Type</th>\n",
       "      <th>Entry Time</th>\n",
       "      <th>Post-Consultation Time</th>\n",
       "      <th>Completion Time</th>\n",
       "      <th>Doctor</th>\n",
       "      <th>Patient ID</th>\n",
       "      <th>Total Revenue_y</th>\n",
       "    </tr>\n",
       "    <tr>\n",
       "      <th>Entry Hour</th>\n",
       "      <th></th>\n",
       "      <th></th>\n",
       "      <th></th>\n",
       "      <th></th>\n",
       "      <th></th>\n",
       "      <th></th>\n",
       "      <th></th>\n",
       "      <th></th>\n",
       "      <th></th>\n",
       "      <th></th>\n",
       "      <th></th>\n",
       "      <th></th>\n",
       "      <th></th>\n",
       "      <th></th>\n",
       "      <th></th>\n",
       "      <th></th>\n",
       "      <th></th>\n",
       "    </tr>\n",
       "  </thead>\n",
       "  <tbody>\n",
       "    <tr>\n",
       "      <th>7</th>\n",
       "      <td>350.66</td>\n",
       "      <td>520.00</td>\n",
       "      <td>198.63</td>\n",
       "      <td>1069.29</td>\n",
       "      <td>12</td>\n",
       "      <td>12</td>\n",
       "      <td>12</td>\n",
       "      <td>12</td>\n",
       "      <td>12</td>\n",
       "      <td>12</td>\n",
       "      <td>12</td>\n",
       "      <td>12</td>\n",
       "      <td>12</td>\n",
       "      <td>12</td>\n",
       "      <td>12</td>\n",
       "      <td>12</td>\n",
       "      <td>12</td>\n",
       "    </tr>\n",
       "    <tr>\n",
       "      <th>8</th>\n",
       "      <td>83404.62</td>\n",
       "      <td>22475.27</td>\n",
       "      <td>51180.15</td>\n",
       "      <td>157060.04</td>\n",
       "      <td>3489</td>\n",
       "      <td>3489</td>\n",
       "      <td>3489</td>\n",
       "      <td>3489</td>\n",
       "      <td>3489</td>\n",
       "      <td>3489</td>\n",
       "      <td>3489</td>\n",
       "      <td>3489</td>\n",
       "      <td>3489</td>\n",
       "      <td>3489</td>\n",
       "      <td>3489</td>\n",
       "      <td>3489</td>\n",
       "      <td>3489</td>\n",
       "    </tr>\n",
       "    <tr>\n",
       "      <th>9</th>\n",
       "      <td>96195.61</td>\n",
       "      <td>14879.28</td>\n",
       "      <td>60216.56</td>\n",
       "      <td>171291.45</td>\n",
       "      <td>4297</td>\n",
       "      <td>4297</td>\n",
       "      <td>4297</td>\n",
       "      <td>4297</td>\n",
       "      <td>4297</td>\n",
       "      <td>4297</td>\n",
       "      <td>4297</td>\n",
       "      <td>4297</td>\n",
       "      <td>4297</td>\n",
       "      <td>4297</td>\n",
       "      <td>4297</td>\n",
       "      <td>4297</td>\n",
       "      <td>4297</td>\n",
       "    </tr>\n",
       "    <tr>\n",
       "      <th>10</th>\n",
       "      <td>75239.66</td>\n",
       "      <td>6688.98</td>\n",
       "      <td>52072.67</td>\n",
       "      <td>134001.31</td>\n",
       "      <td>3680</td>\n",
       "      <td>3680</td>\n",
       "      <td>3680</td>\n",
       "      <td>3680</td>\n",
       "      <td>3680</td>\n",
       "      <td>3680</td>\n",
       "      <td>3680</td>\n",
       "      <td>3680</td>\n",
       "      <td>3680</td>\n",
       "      <td>3680</td>\n",
       "      <td>3680</td>\n",
       "      <td>3680</td>\n",
       "      <td>3680</td>\n",
       "    </tr>\n",
       "    <tr>\n",
       "      <th>11</th>\n",
       "      <td>72675.83</td>\n",
       "      <td>6860.23</td>\n",
       "      <td>48192.03</td>\n",
       "      <td>127728.09</td>\n",
       "      <td>3306</td>\n",
       "      <td>3306</td>\n",
       "      <td>3306</td>\n",
       "      <td>3306</td>\n",
       "      <td>3306</td>\n",
       "      <td>3306</td>\n",
       "      <td>3306</td>\n",
       "      <td>3306</td>\n",
       "      <td>3306</td>\n",
       "      <td>3306</td>\n",
       "      <td>3306</td>\n",
       "      <td>3306</td>\n",
       "      <td>3306</td>\n",
       "    </tr>\n",
       "  </tbody>\n",
       "</table>\n",
       "</div>"
      ],
      "text/plain": [
       "            Medication Revenue_x  Lab Cost_x  Consultation Revenue_x  \\\n",
       "Entry Hour                                                             \n",
       "7                         350.66      520.00                  198.63   \n",
       "8                       83404.62    22475.27                51180.15   \n",
       "9                       96195.61    14879.28                60216.56   \n",
       "10                      75239.66     6688.98                52072.67   \n",
       "11                      72675.83     6860.23                48192.03   \n",
       "\n",
       "            Total Revenue_x  Date  Medication Revenue_y  Lab Cost_y  \\\n",
       "Entry Hour                                                            \n",
       "7                   1069.29    12                    12          12   \n",
       "8                 157060.04  3489                  3489        3489   \n",
       "9                 171291.45  4297                  4297        4297   \n",
       "10                134001.31  3680                  3680        3680   \n",
       "11                127728.09  3306                  3306        3306   \n",
       "\n",
       "            Consultation Revenue_y  Doctor Type  Financial Class  \\\n",
       "Entry Hour                                                         \n",
       "7                               12           12               12   \n",
       "8                             3489         3489             3489   \n",
       "9                             4297         4297             4297   \n",
       "10                            3680         3680             3680   \n",
       "11                            3306         3306             3306   \n",
       "\n",
       "            Patient Type  Entry Time  Post-Consultation Time  Completion Time  \\\n",
       "Entry Hour                                                                      \n",
       "7                     12          12                      12               12   \n",
       "8                   3489        3489                    3489             3489   \n",
       "9                   4297        4297                    4297             4297   \n",
       "10                  3680        3680                    3680             3680   \n",
       "11                  3306        3306                    3306             3306   \n",
       "\n",
       "            Doctor  Patient ID  Total Revenue_y  \n",
       "Entry Hour                                       \n",
       "7               12          12               12  \n",
       "8             3489        3489             3489  \n",
       "9             4297        4297             4297  \n",
       "10            3680        3680             3680  \n",
       "11            3306        3306             3306  "
      ]
     },
     "execution_count": 239,
     "metadata": {},
     "output_type": "execute_result"
    }
   ],
   "source": [
    "merge.head()"
   ]
  },
  {
   "cell_type": "code",
   "execution_count": 241,
   "metadata": {},
   "outputs": [
    {
     "data": {
      "text/plain": [
       "[<matplotlib.lines.Line2D at 0x2642de18ac0>]"
      ]
     },
     "execution_count": 241,
     "metadata": {},
     "output_type": "execute_result"
    },
    {
     "data": {
      "image/png": "[encoded data removed]",
      "text/plain": [
       "<Figure size 432x288 with 2 Axes>"
      ]
     },
     "metadata": {},
     "output_type": "display_data"
    }
   ],
   "source": [
    "fig, ax1 = plt.subplots()\n",
    "ax1 = ax1.twinx()\n",
    "ax1.bar(merge.index,merge['Total Revenue_x'],color = 'blue')\n",
    "ax1.plot(merge.index,merge['Patient ID'])"
   ]
  },
  {
   "cell_type": "markdown",
   "metadata": {},
   "source": [
    "# What Percentage of Revenue Come from different Insurance Types"
   ]
  },
  {
   "cell_type": "code",
   "execution_count": 244,
   "metadata": {},
   "outputs": [],
   "source": [
    "pivot5 = df.groupby('Financial Class').sum()"
   ]
  },
  {
   "cell_type": "code",
   "execution_count": 248,
   "metadata": {},
   "outputs": [
    {
     "data": {
      "image/png": "[encoded data removed]",
      "text/plain": [
       "<Figure size 432x288 with 1 Axes>"
      ]
     },
     "metadata": {},
     "output_type": "display_data"
    }
   ],
   "source": [
    "plt.pie(pivot5['Total Revenue'],labels = pivot5.index,autopct = '%1.1f%%');"
   ]
  },
  {
   "cell_type": "code",
   "execution_count": null,
   "metadata": {},
   "outputs": [],
   "source": []
  }
 ],
 "metadata": {
  "kernelspec": {
   "display_name": "Python 3",
   "language": "python",
   "name": "python3"
  },
  "language_info": {
   "codemirror_mode": {
    "name": "ipython",
    "version": 3
   },
   "file_extension": ".py",
   "mimetype": "text/x-python",
   "name": "python",
   "nbconvert_exporter": "python",
   "pygments_lexer": "ipython3",
   "version": "3.8.3"
  }
 },
 "nbformat": 4,
 "nbformat_minor": 4
}
